{
 "cells": [
  {
   "cell_type": "markdown",
   "metadata": {},
   "source": [
    "# 🌀 Amazing Mazes — Benchmarks\n",
    "\n",
    "Ce notebook compare **générateurs** (Backtracking, Kruskal) et **solveurs** (Backtracking, A*)\n",
    "en mesurant temps, mémoire et caractéristiques du labyrinthe.\n",
    "\n",
    "Il produit aussi un fichier CSV avec toutes les mesures."
   ]
  },
  {
   "cell_type": "code",
   "execution_count": null,
   "metadata": {},
   "outputs": [],
   "source": [
    "import importlib, time, tracemalloc, csv, os\n",
    "from collections import Counter\n",
    "from statistics import mean\n",
    "import pandas as pd\n",
    "import matplotlib.pyplot as plt\n",
    "\n",
    "# Import des modules (assurez-vous que maze_generator.py et maze_solver.py sont dans le dossier)\n",
    "gen_mod = importlib.import_module(\"maze_generator\")\n",
    "sol_mod = importlib.import_module(\"maze_solver\")\n",
    "\n",
    "WALL, EMPTY, PATH, SEEN = '#', '.', 'o', '*'"
   ]
  },
  {
   "cell_type": "code",
   "execution_count": null,
   "metadata": {},
   "outputs": [],
   "source": [
    "def grid_to_str(grid):\n",
    "    return \"\\n\".join(\"\".join(row) for row in grid)\n",
    "\n",
    "def copy_grid(grid):\n",
    "    return [row.copy() for row in grid]\n",
    "\n",
    "def count_chars(grid):\n",
    "    return dict(Counter(ch for row in grid for ch in row))"
   ]
  },
  {
   "cell_type": "code",
   "execution_count": null,
   "metadata": {},
   "outputs": [],
   "source": [
    "def measure_generation(gen_fn, n, seed, label):\n",
    "    start_cpu = time.process_time()\n",
    "    start_wall = time.perf_counter()\n",
    "    tracemalloc.start()\n",
    "    grid = gen_fn(n, seed=seed)\n",
    "    _, peak = tracemalloc.get_traced_memory()\n",
    "    tracemalloc.stop()\n",
    "    end_wall = time.perf_counter()\n",
    "    end_cpu = time.process_time()\n",
    "\n",
    "    ascii_txt = grid_to_str(grid)\n",
    "    H, W = len(grid), len(grid[0])\n",
    "    return {\n",
    "        \"phase\": \"generation\",\n",
    "        \"algo\": label,\n",
    "        \"n\": n,\n",
    "        \"seed\": seed,\n",
    "        \"wall_time_s\": end_wall - start_wall,\n",
    "        \"cpu_time_s\": end_cpu - start_cpu,\n",
    "        \"peak_mem_bytes\": peak,\n",
    "        \"ascii_bytes\": len(ascii_txt.encode(\"utf-8\")),\n",
    "        \"H\": H,\n",
    "        \"W\": W,\n",
    "        \"grid_cells\": H*W\n",
    "    }, grid"
   ]
  },
  {
   "cell_type": "code",
   "execution_count": null,
   "metadata": {},
   "outputs": [],
   "source": [
    "def measure_solving(solve_fn, grid_in, n, seed, label, gen_label):\n",
    "    g = copy_grid(grid_in)\n",
    "    start_cpu = time.process_time()\n",
    "    start_wall = time.perf_counter()\n",
    "    tracemalloc.start()\n",
    "    ok = solve_fn(g)\n",
    "    _, peak = tracemalloc.get_traced_memory()\n",
    "    tracemalloc.stop()\n",
    "    end_wall = time.perf_counter()\n",
    "    end_cpu = time.process_time()\n",
    "\n",
    "    counts = count_chars(g)\n",
    "    return {\n",
    "        \"phase\": \"solving\",\n",
    "        \"algo\": label,\n",
    "        \"gen_algo\": gen_label,\n",
    "        \"n\": n,\n",
    "        \"seed\": seed,\n",
    "        \"ok\": bool(ok),\n",
    "        \"wall_time_s\": end_wall - start_wall,\n",
    "        \"cpu_time_s\": end_cpu - start_cpu,\n",
    "        \"peak_mem_bytes\": peak,\n",
    "        \"path_len_cells\": counts.get(PATH, 0),\n",
    "        \"explored_cells\": counts.get(SEEN, 0),\n",
    "        \"remaining_empty_cells\": counts.get(EMPTY, 0),\n",
    "        \"wall_cells\": counts.get(WALL, 0)\n",
    "    }, g"
   ]
  },
  {
   "cell_type": "code",
   "execution_count": null,
   "metadata": {},
   "outputs": [],
   "source": [
    "# Paramètres d'expérience\n",
    "sizes = [15, 25, 51]\n",
    "reps = 2\n",
    "seed_base = 123\n",
    "\n",
    "generators = {\n",
    "    \"backtracking\": gen_mod.carve_passages_recursive_backtracking,\n",
    "    \"kruskal\": gen_mod.carve_maze_kruskal,\n",
    "}\n",
    "solvers = {\n",
    "    \"backtracking\": sol_mod.solve_backtracking,\n",
    "    \"astar\": sol_mod.solve_astar,\n",
    "}"
   ]
  },
  {
   "cell_type": "code",
   "execution_count": null,
   "metadata": {},
   "outputs": [],
   "source": [
    "rows = []\n",
    "\n",
    "for n in sizes:\n",
    "    for rep in range(reps):\n",
    "        seed = seed_base + rep*1000 + n*17\n",
    "        for gen_name, gen_fn in generators.items():\n",
    "            gm, grid = measure_generation(gen_fn, n, seed, label=f\"gen_{gen_name}\")\n",
    "            rows.append(gm)\n",
    "            for sol_name, sol_fn in solvers.items():\n",
    "                sm, solved = measure_solving(sol_fn, grid, n, seed,\n",
    "                                             label=f\"solve_{sol_name}\", gen_label=f\"gen_{gen_name}\")\n",
    "                rows.append(sm)\n",
    "\n",
    "import pandas as pd\n",
    "df = pd.DataFrame(rows)\n",
    "df.head()"
   ]
  },
  {
   "cell_type": "code",
   "execution_count": null,
   "metadata": {},
   "outputs": [],
   "source": [
    "# Sauvegarde CSV\n",
    "out_csv = \"maze_metrics.csv\"\n",
    "df.to_csv(out_csv, index=False)\n",
    "print(f\"✅ Résultats écrits dans {out_csv}\")"
   ]
  },
  {
   "cell_type": "code",
   "execution_count": null,
   "metadata": {},
   "outputs": [],
   "source": [
    "# Graphiques simples\n",
    "plt.figure(figsize=(8,5))\n",
    "for algo in df['algo'].unique():\n",
    "    sub = df[(df['phase']=='generation') & (df['algo']==algo)]\n",
    "    plt.plot(sub['n'], sub['wall_time_s'], marker='o', label=algo)\n",
    "plt.xlabel('n')\n",
    "plt.ylabel('Wall time (s)')\n",
    "plt.title('Temps de génération')\n",
    "plt.legend()\n",
    "plt.show()"
   ]
  }
 ],
 "metadata": {
  "kernelspec": {
   "display_name": "Python 3",
   "language": "python",
   "name": "python3"
  },
  "language_info": {
   "name": "python",
   "version": "3.10"
  }
 },
 "nbformat": 4,
 "nbformat_minor": 5
}